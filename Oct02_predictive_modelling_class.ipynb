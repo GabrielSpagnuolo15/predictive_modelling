{
 "cells": [
  {
   "cell_type": "code",
   "execution_count": 97,
   "metadata": {},
   "outputs": [],
   "source": [
    "import numpy as np\n",
    "import pandas as pd\n",
    "import matplotlib.pyplot as plt\n",
    "import statsmodels.api as sm\n",
    "from sklearn import linear_model as lm"
   ]
  },
  {
   "cell_type": "code",
   "execution_count": 98,
   "metadata": {},
   "outputs": [],
   "source": [
    "x_1 = np.random.uniform(10,40,100)\n",
    "x_2 = np.random.uniform(-50,20,100)\n",
    "x_3 = np.random.uniform(20,60,100)\n",
    "x_4 = np.random.uniform(10,40,100)\n",
    "x_5 = np.random.uniform(-50,20,100)\n",
    "x_6 = np.random.uniform(20,60,100)\n",
    "epsilon = np.random.normal(0,10,100)"
   ]
  },
  {
   "cell_type": "code",
   "execution_count": 99,
   "metadata": {},
   "outputs": [],
   "source": [
    "y=-30+0.4*x_1+3.4*x_2+5.9*x_3-0.2*x_4+0.6*x_5-1.8*x_6+epsilon"
   ]
  },
  {
   "cell_type": "code",
   "execution_count": 100,
   "metadata": {},
   "outputs": [],
   "source": [
    "X_ols=pd.DataFrame()\n",
    "X_ols['Constant']=pd.Series(np.ones(100))\n",
    "X_ols['X1'] = pd.Series(x_1)\n",
    "X_ols['X2'] = pd.Series(x_2)\n",
    "X_ols['X3'] = pd.Series(x_3)\n",
    "X_ols['X4'] = pd.Series(x_4)\n",
    "X_ols['X5'] = pd.Series(x_5)\n",
    "X_ols['X6'] = pd.Series(x_6)"
   ]
  },
  {
   "cell_type": "code",
   "execution_count": 101,
   "metadata": {},
   "outputs": [
    {
     "data": {
      "text/html": [
       "<table class=\"simpletable\">\n",
       "<caption>OLS Regression Results</caption>\n",
       "<tr>\n",
       "  <th>Dep. Variable:</th>            <td>y</td>        <th>  R-squared:         </th> <td>   0.990</td>\n",
       "</tr>\n",
       "<tr>\n",
       "  <th>Model:</th>                   <td>OLS</td>       <th>  Adj. R-squared:    </th> <td>   0.990</td>\n",
       "</tr>\n",
       "<tr>\n",
       "  <th>Method:</th>             <td>Least Squares</td>  <th>  F-statistic:       </th> <td>   1587.</td>\n",
       "</tr>\n",
       "<tr>\n",
       "  <th>Date:</th>             <td>Mon, 02 Oct 2023</td> <th>  Prob (F-statistic):</th> <td>2.43e-91</td>\n",
       "</tr>\n",
       "<tr>\n",
       "  <th>Time:</th>                 <td>20:39:11</td>     <th>  Log-Likelihood:    </th> <td> -365.73</td>\n",
       "</tr>\n",
       "<tr>\n",
       "  <th>No. Observations:</th>      <td>   100</td>      <th>  AIC:               </th> <td>   745.5</td>\n",
       "</tr>\n",
       "<tr>\n",
       "  <th>Df Residuals:</th>          <td>    93</td>      <th>  BIC:               </th> <td>   763.7</td>\n",
       "</tr>\n",
       "<tr>\n",
       "  <th>Df Model:</th>              <td>     6</td>      <th>                     </th>     <td> </td>   \n",
       "</tr>\n",
       "<tr>\n",
       "  <th>Covariance Type:</th>      <td>nonrobust</td>    <th>                     </th>     <td> </td>   \n",
       "</tr>\n",
       "</table>\n",
       "<table class=\"simpletable\">\n",
       "<tr>\n",
       "      <td></td>        <th>coef</th>     <th>std err</th>      <th>t</th>      <th>P>|t|</th>  <th>[0.025</th>    <th>0.975]</th>  \n",
       "</tr>\n",
       "<tr>\n",
       "  <th>Constant</th> <td>  -24.2630</td> <td>    7.132</td> <td>   -3.402</td> <td> 0.001</td> <td>  -38.425</td> <td>  -10.101</td>\n",
       "</tr>\n",
       "<tr>\n",
       "  <th>X1</th>       <td>    0.5190</td> <td>    0.113</td> <td>    4.600</td> <td> 0.000</td> <td>    0.295</td> <td>    0.743</td>\n",
       "</tr>\n",
       "<tr>\n",
       "  <th>X2</th>       <td>    3.4012</td> <td>    0.050</td> <td>   68.415</td> <td> 0.000</td> <td>    3.302</td> <td>    3.500</td>\n",
       "</tr>\n",
       "<tr>\n",
       "  <th>X3</th>       <td>    5.7542</td> <td>    0.090</td> <td>   63.630</td> <td> 0.000</td> <td>    5.575</td> <td>    5.934</td>\n",
       "</tr>\n",
       "<tr>\n",
       "  <th>X4</th>       <td>   -0.1859</td> <td>    0.126</td> <td>   -1.471</td> <td> 0.145</td> <td>   -0.437</td> <td>    0.065</td>\n",
       "</tr>\n",
       "<tr>\n",
       "  <th>X5</th>       <td>    0.6345</td> <td>    0.051</td> <td>   12.488</td> <td> 0.000</td> <td>    0.534</td> <td>    0.735</td>\n",
       "</tr>\n",
       "<tr>\n",
       "  <th>X6</th>       <td>   -1.8513</td> <td>    0.085</td> <td>  -21.801</td> <td> 0.000</td> <td>   -2.020</td> <td>   -1.683</td>\n",
       "</tr>\n",
       "</table>\n",
       "<table class=\"simpletable\">\n",
       "<tr>\n",
       "  <th>Omnibus:</th>       <td> 0.145</td> <th>  Durbin-Watson:     </th> <td>   2.223</td>\n",
       "</tr>\n",
       "<tr>\n",
       "  <th>Prob(Omnibus):</th> <td> 0.930</td> <th>  Jarque-Bera (JB):  </th> <td>   0.005</td>\n",
       "</tr>\n",
       "<tr>\n",
       "  <th>Skew:</th>          <td>-0.010</td> <th>  Prob(JB):          </th> <td>   0.998</td>\n",
       "</tr>\n",
       "<tr>\n",
       "  <th>Kurtosis:</th>      <td> 3.026</td> <th>  Cond. No.          </th> <td>    519.</td>\n",
       "</tr>\n",
       "</table><br/><br/>Notes:<br/>[1] Standard Errors assume that the covariance matrix of the errors is correctly specified."
      ],
      "text/latex": [
       "\\begin{center}\n",
       "\\begin{tabular}{lclc}\n",
       "\\toprule\n",
       "\\textbf{Dep. Variable:}    &        y         & \\textbf{  R-squared:         } &     0.990   \\\\\n",
       "\\textbf{Model:}            &       OLS        & \\textbf{  Adj. R-squared:    } &     0.990   \\\\\n",
       "\\textbf{Method:}           &  Least Squares   & \\textbf{  F-statistic:       } &     1587.   \\\\\n",
       "\\textbf{Date:}             & Mon, 02 Oct 2023 & \\textbf{  Prob (F-statistic):} &  2.43e-91   \\\\\n",
       "\\textbf{Time:}             &     20:39:11     & \\textbf{  Log-Likelihood:    } &   -365.73   \\\\\n",
       "\\textbf{No. Observations:} &         100      & \\textbf{  AIC:               } &     745.5   \\\\\n",
       "\\textbf{Df Residuals:}     &          93      & \\textbf{  BIC:               } &     763.7   \\\\\n",
       "\\textbf{Df Model:}         &           6      & \\textbf{                     } &             \\\\\n",
       "\\textbf{Covariance Type:}  &    nonrobust     & \\textbf{                     } &             \\\\\n",
       "\\bottomrule\n",
       "\\end{tabular}\n",
       "\\begin{tabular}{lcccccc}\n",
       "                  & \\textbf{coef} & \\textbf{std err} & \\textbf{t} & \\textbf{P$> |$t$|$} & \\textbf{[0.025} & \\textbf{0.975]}  \\\\\n",
       "\\midrule\n",
       "\\textbf{Constant} &     -24.2630  &        7.132     &    -3.402  &         0.001        &      -38.425    &      -10.101     \\\\\n",
       "\\textbf{X1}       &       0.5190  &        0.113     &     4.600  &         0.000        &        0.295    &        0.743     \\\\\n",
       "\\textbf{X2}       &       3.4012  &        0.050     &    68.415  &         0.000        &        3.302    &        3.500     \\\\\n",
       "\\textbf{X3}       &       5.7542  &        0.090     &    63.630  &         0.000        &        5.575    &        5.934     \\\\\n",
       "\\textbf{X4}       &      -0.1859  &        0.126     &    -1.471  &         0.145        &       -0.437    &        0.065     \\\\\n",
       "\\textbf{X5}       &       0.6345  &        0.051     &    12.488  &         0.000        &        0.534    &        0.735     \\\\\n",
       "\\textbf{X6}       &      -1.8513  &        0.085     &   -21.801  &         0.000        &       -2.020    &       -1.683     \\\\\n",
       "\\bottomrule\n",
       "\\end{tabular}\n",
       "\\begin{tabular}{lclc}\n",
       "\\textbf{Omnibus:}       &  0.145 & \\textbf{  Durbin-Watson:     } &    2.223  \\\\\n",
       "\\textbf{Prob(Omnibus):} &  0.930 & \\textbf{  Jarque-Bera (JB):  } &    0.005  \\\\\n",
       "\\textbf{Skew:}          & -0.010 & \\textbf{  Prob(JB):          } &    0.998  \\\\\n",
       "\\textbf{Kurtosis:}      &  3.026 & \\textbf{  Cond. No.          } &     519.  \\\\\n",
       "\\bottomrule\n",
       "\\end{tabular}\n",
       "%\\caption{OLS Regression Results}\n",
       "\\end{center}\n",
       "\n",
       "Notes: \\newline\n",
       " [1] Standard Errors assume that the covariance matrix of the errors is correctly specified."
      ],
      "text/plain": [
       "<class 'statsmodels.iolib.summary.Summary'>\n",
       "\"\"\"\n",
       "                            OLS Regression Results                            \n",
       "==============================================================================\n",
       "Dep. Variable:                      y   R-squared:                       0.990\n",
       "Model:                            OLS   Adj. R-squared:                  0.990\n",
       "Method:                 Least Squares   F-statistic:                     1587.\n",
       "Date:                Mon, 02 Oct 2023   Prob (F-statistic):           2.43e-91\n",
       "Time:                        20:39:11   Log-Likelihood:                -365.73\n",
       "No. Observations:                 100   AIC:                             745.5\n",
       "Df Residuals:                      93   BIC:                             763.7\n",
       "Df Model:                           6                                         \n",
       "Covariance Type:            nonrobust                                         \n",
       "==============================================================================\n",
       "                 coef    std err          t      P>|t|      [0.025      0.975]\n",
       "------------------------------------------------------------------------------\n",
       "Constant     -24.2630      7.132     -3.402      0.001     -38.425     -10.101\n",
       "X1             0.5190      0.113      4.600      0.000       0.295       0.743\n",
       "X2             3.4012      0.050     68.415      0.000       3.302       3.500\n",
       "X3             5.7542      0.090     63.630      0.000       5.575       5.934\n",
       "X4            -0.1859      0.126     -1.471      0.145      -0.437       0.065\n",
       "X5             0.6345      0.051     12.488      0.000       0.534       0.735\n",
       "X6            -1.8513      0.085    -21.801      0.000      -2.020      -1.683\n",
       "==============================================================================\n",
       "Omnibus:                        0.145   Durbin-Watson:                   2.223\n",
       "Prob(Omnibus):                  0.930   Jarque-Bera (JB):                0.005\n",
       "Skew:                          -0.010   Prob(JB):                        0.998\n",
       "Kurtosis:                       3.026   Cond. No.                         519.\n",
       "==============================================================================\n",
       "\n",
       "Notes:\n",
       "[1] Standard Errors assume that the covariance matrix of the errors is correctly specified.\n",
       "\"\"\""
      ]
     },
     "execution_count": 101,
     "metadata": {},
     "output_type": "execute_result"
    }
   ],
   "source": [
    "model_reg = sm.OLS(y,X_ols).fit()\n",
    "model_reg.summary()"
   ]
  },
  {
   "cell_type": "code",
   "execution_count": 102,
   "metadata": {},
   "outputs": [],
   "source": [
    "# Now we add some unrelated coefficients\n",
    "x_7 = np.random.uniform(10,40,100)\n",
    "x_8 = np.random.uniform(-50,20,100)\n",
    "x_9 = np.random.uniform(20,60,100)\n",
    "x_10 = np.random.uniform(10,40,100)\n",
    "x_11 = np.random.uniform(-50,20,100)\n",
    "x_12 = np.random.uniform(20,60,100)"
   ]
  },
  {
   "cell_type": "code",
   "execution_count": 103,
   "metadata": {},
   "outputs": [],
   "source": [
    "X_ext = pd.DataFrame()\n",
    "X_ext['Constant']=pd.Series(np.ones(100))\n",
    "X_ext['X1'] = pd.Series(x_1)\n",
    "X_ext['X2'] = pd.Series(x_2)\n",
    "X_ext['X3'] = pd.Series(x_3)\n",
    "X_ext['X4'] = pd.Series(x_4)\n",
    "X_ext['X5'] = pd.Series(x_5)\n",
    "X_ext['X6'] = pd.Series(x_6)\n",
    "X_ext['X7'] = pd.Series(x_7)\n",
    "X_ext['X8'] = pd.Series(x_8)\n",
    "X_ext['X9'] = pd.Series(x_9)\n",
    "X_ext['X10'] = pd.Series(x_10)\n",
    "X_ext['X11'] = pd.Series(x_11)\n",
    "X_ext['X12'] = pd.Series(x_12)"
   ]
  },
  {
   "cell_type": "code",
   "execution_count": 104,
   "metadata": {},
   "outputs": [
    {
     "data": {
      "text/html": [
       "<table class=\"simpletable\">\n",
       "<caption>OLS Regression Results</caption>\n",
       "<tr>\n",
       "  <th>Dep. Variable:</th>            <td>y</td>        <th>  R-squared:         </th> <td>   0.991</td>\n",
       "</tr>\n",
       "<tr>\n",
       "  <th>Model:</th>                   <td>OLS</td>       <th>  Adj. R-squared:    </th> <td>   0.990</td>\n",
       "</tr>\n",
       "<tr>\n",
       "  <th>Method:</th>             <td>Least Squares</td>  <th>  F-statistic:       </th> <td>   785.5</td>\n",
       "</tr>\n",
       "<tr>\n",
       "  <th>Date:</th>             <td>Mon, 02 Oct 2023</td> <th>  Prob (F-statistic):</th> <td>3.55e-83</td>\n",
       "</tr>\n",
       "<tr>\n",
       "  <th>Time:</th>                 <td>20:39:11</td>     <th>  Log-Likelihood:    </th> <td> -362.91</td>\n",
       "</tr>\n",
       "<tr>\n",
       "  <th>No. Observations:</th>      <td>   100</td>      <th>  AIC:               </th> <td>   751.8</td>\n",
       "</tr>\n",
       "<tr>\n",
       "  <th>Df Residuals:</th>          <td>    87</td>      <th>  BIC:               </th> <td>   785.7</td>\n",
       "</tr>\n",
       "<tr>\n",
       "  <th>Df Model:</th>              <td>    12</td>      <th>                     </th>     <td> </td>   \n",
       "</tr>\n",
       "<tr>\n",
       "  <th>Covariance Type:</th>      <td>nonrobust</td>    <th>                     </th>     <td> </td>   \n",
       "</tr>\n",
       "</table>\n",
       "<table class=\"simpletable\">\n",
       "<tr>\n",
       "      <td></td>        <th>coef</th>     <th>std err</th>      <th>t</th>      <th>P>|t|</th>  <th>[0.025</th>    <th>0.975]</th>  \n",
       "</tr>\n",
       "<tr>\n",
       "  <th>Constant</th> <td>  -23.8147</td> <td>    9.717</td> <td>   -2.451</td> <td> 0.016</td> <td>  -43.129</td> <td>   -4.501</td>\n",
       "</tr>\n",
       "<tr>\n",
       "  <th>X1</th>       <td>    0.5142</td> <td>    0.116</td> <td>    4.425</td> <td> 0.000</td> <td>    0.283</td> <td>    0.745</td>\n",
       "</tr>\n",
       "<tr>\n",
       "  <th>X2</th>       <td>    3.4200</td> <td>    0.051</td> <td>   66.676</td> <td> 0.000</td> <td>    3.318</td> <td>    3.522</td>\n",
       "</tr>\n",
       "<tr>\n",
       "  <th>X3</th>       <td>    5.7471</td> <td>    0.093</td> <td>   61.812</td> <td> 0.000</td> <td>    5.562</td> <td>    5.932</td>\n",
       "</tr>\n",
       "<tr>\n",
       "  <th>X4</th>       <td>   -0.2342</td> <td>    0.133</td> <td>   -1.766</td> <td> 0.081</td> <td>   -0.498</td> <td>    0.029</td>\n",
       "</tr>\n",
       "<tr>\n",
       "  <th>X5</th>       <td>    0.6337</td> <td>    0.052</td> <td>   12.254</td> <td> 0.000</td> <td>    0.531</td> <td>    0.736</td>\n",
       "</tr>\n",
       "<tr>\n",
       "  <th>X6</th>       <td>   -1.8959</td> <td>    0.091</td> <td>  -20.848</td> <td> 0.000</td> <td>   -2.077</td> <td>   -1.715</td>\n",
       "</tr>\n",
       "<tr>\n",
       "  <th>X7</th>       <td>    0.2047</td> <td>    0.123</td> <td>    1.669</td> <td> 0.099</td> <td>   -0.039</td> <td>    0.449</td>\n",
       "</tr>\n",
       "<tr>\n",
       "  <th>X8</th>       <td>   -0.0101</td> <td>    0.048</td> <td>   -0.213</td> <td> 0.832</td> <td>   -0.105</td> <td>    0.084</td>\n",
       "</tr>\n",
       "<tr>\n",
       "  <th>X9</th>       <td>    0.0676</td> <td>    0.093</td> <td>    0.729</td> <td> 0.468</td> <td>   -0.117</td> <td>    0.252</td>\n",
       "</tr>\n",
       "<tr>\n",
       "  <th>X10</th>      <td>    0.0100</td> <td>    0.114</td> <td>    0.088</td> <td> 0.930</td> <td>   -0.216</td> <td>    0.236</td>\n",
       "</tr>\n",
       "<tr>\n",
       "  <th>X11</th>      <td>    0.0046</td> <td>    0.051</td> <td>    0.090</td> <td> 0.928</td> <td>   -0.097</td> <td>    0.106</td>\n",
       "</tr>\n",
       "<tr>\n",
       "  <th>X12</th>      <td>   -0.1192</td> <td>    0.089</td> <td>   -1.338</td> <td> 0.185</td> <td>   -0.296</td> <td>    0.058</td>\n",
       "</tr>\n",
       "</table>\n",
       "<table class=\"simpletable\">\n",
       "<tr>\n",
       "  <th>Omnibus:</th>       <td> 2.050</td> <th>  Durbin-Watson:     </th> <td>   2.177</td>\n",
       "</tr>\n",
       "<tr>\n",
       "  <th>Prob(Omnibus):</th> <td> 0.359</td> <th>  Jarque-Bera (JB):  </th> <td>   1.483</td>\n",
       "</tr>\n",
       "<tr>\n",
       "  <th>Skew:</th>          <td>-0.259</td> <th>  Prob(JB):          </th> <td>   0.476</td>\n",
       "</tr>\n",
       "<tr>\n",
       "  <th>Kurtosis:</th>      <td> 3.294</td> <th>  Cond. No.          </th> <td>    983.</td>\n",
       "</tr>\n",
       "</table><br/><br/>Notes:<br/>[1] Standard Errors assume that the covariance matrix of the errors is correctly specified."
      ],
      "text/latex": [
       "\\begin{center}\n",
       "\\begin{tabular}{lclc}\n",
       "\\toprule\n",
       "\\textbf{Dep. Variable:}    &        y         & \\textbf{  R-squared:         } &     0.991   \\\\\n",
       "\\textbf{Model:}            &       OLS        & \\textbf{  Adj. R-squared:    } &     0.990   \\\\\n",
       "\\textbf{Method:}           &  Least Squares   & \\textbf{  F-statistic:       } &     785.5   \\\\\n",
       "\\textbf{Date:}             & Mon, 02 Oct 2023 & \\textbf{  Prob (F-statistic):} &  3.55e-83   \\\\\n",
       "\\textbf{Time:}             &     20:39:11     & \\textbf{  Log-Likelihood:    } &   -362.91   \\\\\n",
       "\\textbf{No. Observations:} &         100      & \\textbf{  AIC:               } &     751.8   \\\\\n",
       "\\textbf{Df Residuals:}     &          87      & \\textbf{  BIC:               } &     785.7   \\\\\n",
       "\\textbf{Df Model:}         &          12      & \\textbf{                     } &             \\\\\n",
       "\\textbf{Covariance Type:}  &    nonrobust     & \\textbf{                     } &             \\\\\n",
       "\\bottomrule\n",
       "\\end{tabular}\n",
       "\\begin{tabular}{lcccccc}\n",
       "                  & \\textbf{coef} & \\textbf{std err} & \\textbf{t} & \\textbf{P$> |$t$|$} & \\textbf{[0.025} & \\textbf{0.975]}  \\\\\n",
       "\\midrule\n",
       "\\textbf{Constant} &     -23.8147  &        9.717     &    -2.451  &         0.016        &      -43.129    &       -4.501     \\\\\n",
       "\\textbf{X1}       &       0.5142  &        0.116     &     4.425  &         0.000        &        0.283    &        0.745     \\\\\n",
       "\\textbf{X2}       &       3.4200  &        0.051     &    66.676  &         0.000        &        3.318    &        3.522     \\\\\n",
       "\\textbf{X3}       &       5.7471  &        0.093     &    61.812  &         0.000        &        5.562    &        5.932     \\\\\n",
       "\\textbf{X4}       &      -0.2342  &        0.133     &    -1.766  &         0.081        &       -0.498    &        0.029     \\\\\n",
       "\\textbf{X5}       &       0.6337  &        0.052     &    12.254  &         0.000        &        0.531    &        0.736     \\\\\n",
       "\\textbf{X6}       &      -1.8959  &        0.091     &   -20.848  &         0.000        &       -2.077    &       -1.715     \\\\\n",
       "\\textbf{X7}       &       0.2047  &        0.123     &     1.669  &         0.099        &       -0.039    &        0.449     \\\\\n",
       "\\textbf{X8}       &      -0.0101  &        0.048     &    -0.213  &         0.832        &       -0.105    &        0.084     \\\\\n",
       "\\textbf{X9}       &       0.0676  &        0.093     &     0.729  &         0.468        &       -0.117    &        0.252     \\\\\n",
       "\\textbf{X10}      &       0.0100  &        0.114     &     0.088  &         0.930        &       -0.216    &        0.236     \\\\\n",
       "\\textbf{X11}      &       0.0046  &        0.051     &     0.090  &         0.928        &       -0.097    &        0.106     \\\\\n",
       "\\textbf{X12}      &      -0.1192  &        0.089     &    -1.338  &         0.185        &       -0.296    &        0.058     \\\\\n",
       "\\bottomrule\n",
       "\\end{tabular}\n",
       "\\begin{tabular}{lclc}\n",
       "\\textbf{Omnibus:}       &  2.050 & \\textbf{  Durbin-Watson:     } &    2.177  \\\\\n",
       "\\textbf{Prob(Omnibus):} &  0.359 & \\textbf{  Jarque-Bera (JB):  } &    1.483  \\\\\n",
       "\\textbf{Skew:}          & -0.259 & \\textbf{  Prob(JB):          } &    0.476  \\\\\n",
       "\\textbf{Kurtosis:}      &  3.294 & \\textbf{  Cond. No.          } &     983.  \\\\\n",
       "\\bottomrule\n",
       "\\end{tabular}\n",
       "%\\caption{OLS Regression Results}\n",
       "\\end{center}\n",
       "\n",
       "Notes: \\newline\n",
       " [1] Standard Errors assume that the covariance matrix of the errors is correctly specified."
      ],
      "text/plain": [
       "<class 'statsmodels.iolib.summary.Summary'>\n",
       "\"\"\"\n",
       "                            OLS Regression Results                            \n",
       "==============================================================================\n",
       "Dep. Variable:                      y   R-squared:                       0.991\n",
       "Model:                            OLS   Adj. R-squared:                  0.990\n",
       "Method:                 Least Squares   F-statistic:                     785.5\n",
       "Date:                Mon, 02 Oct 2023   Prob (F-statistic):           3.55e-83\n",
       "Time:                        20:39:11   Log-Likelihood:                -362.91\n",
       "No. Observations:                 100   AIC:                             751.8\n",
       "Df Residuals:                      87   BIC:                             785.7\n",
       "Df Model:                          12                                         \n",
       "Covariance Type:            nonrobust                                         \n",
       "==============================================================================\n",
       "                 coef    std err          t      P>|t|      [0.025      0.975]\n",
       "------------------------------------------------------------------------------\n",
       "Constant     -23.8147      9.717     -2.451      0.016     -43.129      -4.501\n",
       "X1             0.5142      0.116      4.425      0.000       0.283       0.745\n",
       "X2             3.4200      0.051     66.676      0.000       3.318       3.522\n",
       "X3             5.7471      0.093     61.812      0.000       5.562       5.932\n",
       "X4            -0.2342      0.133     -1.766      0.081      -0.498       0.029\n",
       "X5             0.6337      0.052     12.254      0.000       0.531       0.736\n",
       "X6            -1.8959      0.091    -20.848      0.000      -2.077      -1.715\n",
       "X7             0.2047      0.123      1.669      0.099      -0.039       0.449\n",
       "X8            -0.0101      0.048     -0.213      0.832      -0.105       0.084\n",
       "X9             0.0676      0.093      0.729      0.468      -0.117       0.252\n",
       "X10            0.0100      0.114      0.088      0.930      -0.216       0.236\n",
       "X11            0.0046      0.051      0.090      0.928      -0.097       0.106\n",
       "X12           -0.1192      0.089     -1.338      0.185      -0.296       0.058\n",
       "==============================================================================\n",
       "Omnibus:                        2.050   Durbin-Watson:                   2.177\n",
       "Prob(Omnibus):                  0.359   Jarque-Bera (JB):                1.483\n",
       "Skew:                          -0.259   Prob(JB):                        0.476\n",
       "Kurtosis:                       3.294   Cond. No.                         983.\n",
       "==============================================================================\n",
       "\n",
       "Notes:\n",
       "[1] Standard Errors assume that the covariance matrix of the errors is correctly specified.\n",
       "\"\"\""
      ]
     },
     "execution_count": 104,
     "metadata": {},
     "output_type": "execute_result"
    }
   ],
   "source": [
    "model_reg = sm.OLS(y,X_ext).fit()\n",
    "model_reg.summary()"
   ]
  },
  {
   "cell_type": "code",
   "execution_count": 105,
   "metadata": {},
   "outputs": [
    {
     "data": {
      "text/plain": [
       "array([ 5.01020672e-01,  3.41531011e+00,  5.74026077e+00, -2.13587758e-01,\n",
       "        6.31785168e-01, -1.88383021e+00,  1.83944057e-01, -6.22133095e-03,\n",
       "        5.82088829e-02,  0.00000000e+00,  1.22978868e-03, -1.08624458e-01])"
      ]
     },
     "execution_count": 105,
     "metadata": {},
     "output_type": "execute_result"
    }
   ],
   "source": [
    "# When we input the matrix, we don't need to add the column of ones because \\\n",
    "# Lasso automatically takes it into account\n",
    "\n",
    "X_ext = X_ext.drop(columns=['Constant'])\n",
    "model_lasso = lm.Lasso(alpha=1).fit(X_ext,y)\n",
    "model_lasso.coef_"
   ]
  },
  {
   "cell_type": "code",
   "execution_count": 106,
   "metadata": {},
   "outputs": [
    {
     "data": {
      "text/plain": [
       "array([ 0.39760225,  3.37219303,  5.68824133, -0.0280617 ,  0.61478913,\n",
       "       -1.78170329,  0.        ,  0.        ,  0.        , -0.        ,\n",
       "       -0.        , -0.00988457])"
      ]
     },
     "execution_count": 106,
     "metadata": {},
     "output_type": "execute_result"
    }
   ],
   "source": [
    "model_lasso = lm.Lasso(alpha=10).fit(X_ext,y)\n",
    "model_lasso.coef_"
   ]
  },
  {
   "cell_type": "code",
   "execution_count": 107,
   "metadata": {},
   "outputs": [
    {
     "data": {
      "text/plain": [
       "array([ 5.13811806e-01,  3.41894062e+00,  5.74210034e+00, -2.34301201e-01,\n",
       "        6.33706700e-01, -1.89423559e+00,  2.03567532e-01, -9.71666196e-03,\n",
       "        6.78298713e-02,  1.00952023e-02,  4.29474786e-03, -1.18979263e-01])"
      ]
     },
     "execution_count": 107,
     "metadata": {},
     "output_type": "execute_result"
    }
   ],
   "source": [
    "# We now apply Ridge Regression to our data\n",
    "\n",
    "model_ridge = lm.Ridge(alpha=10).fit(X_ext,y)\n",
    "model_ridge.coef_"
   ]
  },
  {
   "cell_type": "code",
   "execution_count": 108,
   "metadata": {},
   "outputs": [
    {
     "data": {
      "text/plain": [
       "array([ 0.328229  ,  2.65976579,  3.08609587, -0.18626152,  0.57669037,\n",
       "       -1.01078708, -0.12163021,  0.18727697,  0.13699585,  0.00615086,\n",
       "       -0.11519853, -0.0047458 ])"
      ]
     },
     "execution_count": 108,
     "metadata": {},
     "output_type": "execute_result"
    }
   ],
   "source": [
    "model_ridge = lm.Ridge(alpha=10000).fit(X_ext,y)\n",
    "model_ridge.coef_"
   ]
  },
  {
   "cell_type": "code",
   "execution_count": 109,
   "metadata": {},
   "outputs": [
    {
     "data": {
      "text/plain": [
       "array([ 5.10672237e-01,  3.40952237e+00,  5.69737404e+00, -2.35547901e-01,\n",
       "        6.33996771e-01, -1.87903298e+00,  1.93499979e-01, -5.91435149e-03,\n",
       "        6.98242321e-02,  1.06629339e-02,  1.40527009e-03, -1.17397639e-01])"
      ]
     },
     "execution_count": 109,
     "metadata": {},
     "output_type": "execute_result"
    }
   ],
   "source": [
    "model_ridge = lm.Ridge(alpha=100).fit(X_ext,y)\n",
    "model_ridge.coef_"
   ]
  },
  {
   "cell_type": "code",
   "execution_count": 110,
   "metadata": {},
   "outputs": [
    {
     "data": {
      "text/plain": [
       "array([ 0.4824021 ,  3.3193123 ,  5.28641555, -0.242468  ,  0.63512031,\n",
       "       -1.74041425,  0.11019616,  0.02851739,  0.08690758,  0.01409637,\n",
       "       -0.02388878, -0.10176876])"
      ]
     },
     "execution_count": 110,
     "metadata": {},
     "output_type": "execute_result"
    }
   ],
   "source": [
    "model_ridge = lm.Ridge(alpha=1000).fit(X_ext,y)\n",
    "model_ridge.coef_"
   ]
  },
  {
   "cell_type": "code",
   "execution_count": 111,
   "metadata": {},
   "outputs": [
    {
     "data": {
      "text/plain": [
       "array([ 0.08836724,  0.92805759,  0.60972294, -0.0365842 ,  0.21262605,\n",
       "       -0.1889711 , -0.0692876 ,  0.15907635,  0.06356232, -0.00112112,\n",
       "       -0.06082469,  0.03727716])"
      ]
     },
     "execution_count": 111,
     "metadata": {},
     "output_type": "execute_result"
    }
   ],
   "source": [
    "model_ridge = lm.Ridge(alpha=100000).fit(X_ext,y)\n",
    "model_ridge.coef_"
   ]
  },
  {
   "cell_type": "code",
   "execution_count": null,
   "metadata": {},
   "outputs": [],
   "source": []
  }
 ],
 "metadata": {
  "kernelspec": {
   "display_name": "Python 3",
   "language": "python",
   "name": "python3"
  },
  "language_info": {
   "codemirror_mode": {
    "name": "ipython",
    "version": 3
   },
   "file_extension": ".py",
   "mimetype": "text/x-python",
   "name": "python",
   "nbconvert_exporter": "python",
   "pygments_lexer": "ipython3",
   "version": "3.11.3"
  },
  "orig_nbformat": 4
 },
 "nbformat": 4,
 "nbformat_minor": 2
}
